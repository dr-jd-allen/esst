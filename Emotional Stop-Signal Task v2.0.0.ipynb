{
 "cells": [
  {
   "cell_type": "code",
   "execution_count": null,
   "id": "6129390f",
   "metadata": {},
   "outputs": [],
   "source": [
    "from psychopy import visual, core, event  # Import necessary components\n",
    "\n",
    "# Create a window\n",
    "win = visual.Window(size=(800, 600), fullscr=True, screen=0)\n",
    "\n",
    "# Create a stimulus\n",
    "text = visual.TextStim(win=win, text=\"Hello, world!\", color=(1, 1, 1))\n",
    "\n",
    "# Draw the stimulus\n",
    "text.draw()\n",
    "\n",
    "# Flip the window\n",
    "win.flip()\n",
    "\n",
    "# Wait for a key press\n",
    "event.waitKeys()\n",
    "\n",
    "# Close the window\n",
    "win.close()\n",
    "\n",
    "# Clean up\n",
    "core.quit()\n"
   ]
  },
  {
   "cell_type": "code",
   "execution_count": null,
   "id": "3bb52803",
   "metadata": {},
   "outputs": [],
   "source": []
  }
 ],
 "metadata": {
  "kernelspec": {
   "display_name": "Python 3 (ipykernel)",
   "language": "python",
   "name": "python3"
  },
  "language_info": {
   "codemirror_mode": {
    "name": "ipython",
    "version": 3
   },
   "file_extension": ".py",
   "mimetype": "text/x-python",
   "name": "python",
   "nbconvert_exporter": "python",
   "pygments_lexer": "ipython3",
   "version": "3.11.5"
  }
 },
 "nbformat": 4,
 "nbformat_minor": 5
}
